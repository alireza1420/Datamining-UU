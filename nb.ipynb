{
 "cells": [
  {
   "cell_type": "code",
   "execution_count": 20,
   "id": "aa228c41",
   "metadata": {},
   "outputs": [
    {
     "data": {
      "text/plain": [
       "array([[10.,  2.],\n",
       "       [ 1.,  2.]])"
      ]
     },
     "execution_count": 20,
     "metadata": {},
     "output_type": "execute_result"
    }
   ],
   "source": [
    "from sklearn.cluster import KMeans\n",
    "import numpy as np\n",
    "X = np.array([[1, 2], [1, 4], [1, 0],\n",
    "              [10, 2], [10, 4], [10, 0]])\n",
    "kmeans = KMeans(n_clusters=2, random_state=0, n_init=\"auto\").fit(X)\n",
    "kmeans.labels_\n",
    "kmeans.predict([[0, 0], [12, 3]])\n",
    "kmeans.cluster_centers_"
   ]
  },
  {
   "cell_type": "code",
   "execution_count": 21,
   "id": "8cf57591",
   "metadata": {},
   "outputs": [
    {
     "data": {
      "text/plain": [
       "{1: 0, 2: 1, 0: 2}"
      ]
     },
     "execution_count": 21,
     "metadata": {},
     "output_type": "execute_result"
    }
   ],
   "source": [
    "# centers: array-like of shape (k,) or dict {label:score}\n",
    "import numpy as np\n",
    "\n",
    "# example array form where index == cluster id\n",
    "centers = np.array([2.5, -1.2, 0.7])  # cluster 0,1,2\n",
    "\n",
    "sorted_labels = np.argsort(centers)       # array([1,2,0]) low->high\n",
    "rank_map = {int(lbl): rank for rank, lbl in enumerate(sorted_labels, start=0)}  # {1:1,2:2,0:3}\n",
    "# labels: array of shape (n_samples,) with cluster ids\n",
    "labels = np.array([0,0,1,2,1,2])\n",
    "\n",
    "# numeric rank per sample (1 = lowest cluster center)\n",
    "ranks = np.array([rank_map[int(l)] for l in labels])\n",
    "centroids = np.array([[2,2],[ 1,1],[3,3]])   # shape (k, d)\n",
    "scores = np.linalg.norm(centroids, axis=1)\n",
    "sorted_labels = np.argsort(scores)\n",
    "names = [\"low\",\"medium\",\"high\"]\n",
    "name_map = {int(lbl): names[i] for i,lbl in enumerate(sorted_labels) if i < len(names)}\n",
    "sample_names = np.array([name_map[l] for l in labels])\n",
    "\n",
    "sample_names\n",
    "rank_map"
   ]
  },
  {
   "cell_type": "code",
   "execution_count": 22,
   "id": "14e8b2b4",
   "metadata": {},
   "outputs": [
    {
     "data": {
      "text/html": [
       "<div>\n",
       "<style scoped>\n",
       "    .dataframe tbody tr th:only-of-type {\n",
       "        vertical-align: middle;\n",
       "    }\n",
       "\n",
       "    .dataframe tbody tr th {\n",
       "        vertical-align: top;\n",
       "    }\n",
       "\n",
       "    .dataframe thead th {\n",
       "        text-align: right;\n",
       "    }\n",
       "</style>\n",
       "<table border=\"1\" class=\"dataframe\">\n",
       "  <thead>\n",
       "    <tr style=\"text-align: right;\">\n",
       "      <th></th>\n",
       "      <th>a</th>\n",
       "      <th>c</th>\n",
       "    </tr>\n",
       "  </thead>\n",
       "  <tbody>\n",
       "    <tr>\n",
       "      <th>0</th>\n",
       "      <td>1</td>\n",
       "      <td>4</td>\n",
       "    </tr>\n",
       "    <tr>\n",
       "      <th>1</th>\n",
       "      <td>2</td>\n",
       "      <td>5</td>\n",
       "    </tr>\n",
       "    <tr>\n",
       "      <th>2</th>\n",
       "      <td>3</td>\n",
       "      <td>6</td>\n",
       "    </tr>\n",
       "  </tbody>\n",
       "</table>\n",
       "</div>"
      ],
      "text/plain": [
       "   a  c\n",
       "0  1  4\n",
       "1  2  5\n",
       "2  3  6"
      ]
     },
     "execution_count": 22,
     "metadata": {},
     "output_type": "execute_result"
    }
   ],
   "source": [
    "import pandas as pd\n",
    "df = pd.DataFrame({\"A\": [1, 2, 3], \"B\": [4, 5, 6]})\n",
    "df.rename(columns={\"A\": \"a\", \"B\": \"c\"})"
   ]
  },
  {
   "cell_type": "code",
   "execution_count": 23,
   "id": "fcd68acb",
   "metadata": {},
   "outputs": [
    {
     "data": {
      "text/plain": [
       "True"
      ]
     },
     "execution_count": 23,
     "metadata": {},
     "output_type": "execute_result"
    }
   ],
   "source": [
    "a = pd.read_csv(\"rules_stat_cluster.csv\").to_numpy()\n",
    "b = pd.read_csv(\"rules_stat.csv\").to_numpy()\n",
    "(a != b).any()"
   ]
  },
  {
   "cell_type": "code",
   "execution_count": 24,
   "id": "3b4cc2a3",
   "metadata": {},
   "outputs": [
    {
     "data": {
      "text/plain": [
       "(5656, 8370)"
      ]
     },
     "execution_count": 24,
     "metadata": {},
     "output_type": "execute_result"
    }
   ],
   "source": [
    "mask = np.not_equal(a, b)\n",
    "count = int(np.count_nonzero(mask))\n",
    "total = int(a.size)\n",
    "\n",
    "count, total"
   ]
  }
 ],
 "metadata": {
  "kernelspec": {
   "display_name": "Python 3",
   "language": "python",
   "name": "python3"
  },
  "language_info": {
   "codemirror_mode": {
    "name": "ipython",
    "version": 3
   },
   "file_extension": ".py",
   "mimetype": "text/x-python",
   "name": "python",
   "nbconvert_exporter": "python",
   "pygments_lexer": "ipython3",
   "version": "3.10.12"
  }
 },
 "nbformat": 4,
 "nbformat_minor": 5
}
