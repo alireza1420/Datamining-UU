{
 "cells": [
  {
   "cell_type": "code",
   "execution_count": 1,
   "id": "5917a325",
   "metadata": {},
   "outputs": [],
   "source": [
    "import numpy as numpy\n",
    "import pandas as pd \n"
   ]
  },
  {
   "cell_type": "code",
   "execution_count": 2,
   "id": "1f39e6ba",
   "metadata": {},
   "outputs": [
    {
     "data": {
      "text/plain": [
       "'e:\\\\Alireza\\\\Uppsala\\\\Classes\\\\Data_Mining\\\\Project'"
      ]
     },
     "execution_count": 2,
     "metadata": {},
     "output_type": "execute_result"
    }
   ],
   "source": [
    "import os\n",
    "os.path.abspath(os.getcwd())"
   ]
  },
  {
   "cell_type": "code",
   "execution_count": 4,
   "id": "f44a5eaa",
   "metadata": {},
   "outputs": [
    {
     "data": {
      "text/html": [
       "<div>\n",
       "<style scoped>\n",
       "    .dataframe tbody tr th:only-of-type {\n",
       "        vertical-align: middle;\n",
       "    }\n",
       "\n",
       "    .dataframe tbody tr th {\n",
       "        vertical-align: top;\n",
       "    }\n",
       "\n",
       "    .dataframe thead th {\n",
       "        text-align: right;\n",
       "    }\n",
       "</style>\n",
       "<table border=\"1\" class=\"dataframe\">\n",
       "  <thead>\n",
       "    <tr style=\"text-align: right;\">\n",
       "      <th></th>\n",
       "      <th>COUNTRY</th>\n",
       "      <th>SEX</th>\n",
       "      <th>YEAR</th>\n",
       "      <th>life_expectancy</th>\n",
       "      <th>average_number_of_calories_available_per_person_per_day</th>\n",
       "      <th>unemployment_rate</th>\n",
       "      <th>regular_daily_smokers</th>\n",
       "      <th>adult_overweight</th>\n",
       "      <th>alcahol_consumption_liter_per_capita</th>\n",
       "      <th>fat_available_ppd</th>\n",
       "      <th>protein_ppd</th>\n",
       "      <th>average_fruit_vegtable_ppd</th>\n",
       "    </tr>\n",
       "  </thead>\n",
       "  <tbody>\n",
       "    <tr>\n",
       "      <th>0</th>\n",
       "      <td>Austria</td>\n",
       "      <td>ALL</td>\n",
       "      <td>2000.0</td>\n",
       "      <td>78.47</td>\n",
       "      <td>2223.0</td>\n",
       "      <td>5.6</td>\n",
       "      <td>29.5</td>\n",
       "      <td>33.3</td>\n",
       "      <td>1.17</td>\n",
       "      <td>44.85</td>\n",
       "      <td>66.11</td>\n",
       "      <td>128.80</td>\n",
       "    </tr>\n",
       "    <tr>\n",
       "      <th>1</th>\n",
       "      <td>Austria</td>\n",
       "      <td>ALL</td>\n",
       "      <td>2001.0</td>\n",
       "      <td>78.95</td>\n",
       "      <td>2242.0</td>\n",
       "      <td>5.1</td>\n",
       "      <td>40.1</td>\n",
       "      <td>33.8</td>\n",
       "      <td>0.91</td>\n",
       "      <td>46.06</td>\n",
       "      <td>66.12</td>\n",
       "      <td>121.44</td>\n",
       "    </tr>\n",
       "    <tr>\n",
       "      <th>2</th>\n",
       "      <td>Austria</td>\n",
       "      <td>ALL</td>\n",
       "      <td>2002.0</td>\n",
       "      <td>79.01</td>\n",
       "      <td>2156.0</td>\n",
       "      <td>3.6</td>\n",
       "      <td>24.7</td>\n",
       "      <td>34.2</td>\n",
       "      <td>1.04</td>\n",
       "      <td>43.14</td>\n",
       "      <td>64.58</td>\n",
       "      <td>115.27</td>\n",
       "    </tr>\n",
       "    <tr>\n",
       "      <th>3</th>\n",
       "      <td>Austria</td>\n",
       "      <td>ALL</td>\n",
       "      <td>2003.0</td>\n",
       "      <td>78.89</td>\n",
       "      <td>2270.0</td>\n",
       "      <td>4.4</td>\n",
       "      <td>34.9</td>\n",
       "      <td>34.7</td>\n",
       "      <td>1.04</td>\n",
       "      <td>48.29</td>\n",
       "      <td>65.59</td>\n",
       "      <td>127.38</td>\n",
       "    </tr>\n",
       "    <tr>\n",
       "      <th>4</th>\n",
       "      <td>Austria</td>\n",
       "      <td>ALL</td>\n",
       "      <td>2004.0</td>\n",
       "      <td>79.43</td>\n",
       "      <td>2254.0</td>\n",
       "      <td>5.7</td>\n",
       "      <td>39.0</td>\n",
       "      <td>35.1</td>\n",
       "      <td>1.03</td>\n",
       "      <td>44.41</td>\n",
       "      <td>66.63</td>\n",
       "      <td>120.52</td>\n",
       "    </tr>\n",
       "  </tbody>\n",
       "</table>\n",
       "</div>"
      ],
      "text/plain": [
       "   COUNTRY  SEX    YEAR  life_expectancy  \\\n",
       "0  Austria  ALL  2000.0            78.47   \n",
       "1  Austria  ALL  2001.0            78.95   \n",
       "2  Austria  ALL  2002.0            79.01   \n",
       "3  Austria  ALL  2003.0            78.89   \n",
       "4  Austria  ALL  2004.0            79.43   \n",
       "\n",
       "   average_number_of_calories_available_per_person_per_day  unemployment_rate  \\\n",
       "0                                             2223.0                      5.6   \n",
       "1                                             2242.0                      5.1   \n",
       "2                                             2156.0                      3.6   \n",
       "3                                             2270.0                      4.4   \n",
       "4                                             2254.0                      5.7   \n",
       "\n",
       "   regular_daily_smokers  adult_overweight  \\\n",
       "0                   29.5              33.3   \n",
       "1                   40.1              33.8   \n",
       "2                   24.7              34.2   \n",
       "3                   34.9              34.7   \n",
       "4                   39.0              35.1   \n",
       "\n",
       "   alcahol_consumption_liter_per_capita  fat_available_ppd  protein_ppd  \\\n",
       "0                                  1.17              44.85        66.11   \n",
       "1                                  0.91              46.06        66.12   \n",
       "2                                  1.04              43.14        64.58   \n",
       "3                                  1.04              48.29        65.59   \n",
       "4                                  1.03              44.41        66.63   \n",
       "\n",
       "   average_fruit_vegtable_ppd  \n",
       "0                      128.80  \n",
       "1                      121.44  \n",
       "2                      115.27  \n",
       "3                      127.38  \n",
       "4                      120.52  "
      ]
     },
     "execution_count": 4,
     "metadata": {},
     "output_type": "execute_result"
    }
   ],
   "source": [
    "df = pd.read_csv(\"European_citiznes_rsvp.csv\")\n",
    "df.head()"
   ]
  },
  {
   "cell_type": "code",
   "execution_count": 9,
   "id": "30101349",
   "metadata": {},
   "outputs": [
    {
     "name": "stdout",
     "output_type": "stream",
     "text": [
      "Mean: 3074.6367741935487\n",
      "Variance: 156411.2118053648\n",
      "Standard Deviation: 395.48857354589245\n"
     ]
    },
    {
     "name": "stderr",
     "output_type": "stream",
     "text": [
      "C:\\Users\\ASUS\\AppData\\Local\\Temp\\ipykernel_24424\\3712869183.py:24: FutureWarning: \n",
      "\n",
      "`shade` is now deprecated in favor of `fill`; setting `fill=True`.\n",
      "This will become an error in seaborn v0.14.0; please update your code.\n",
      "\n",
      "  ax = sns.kdeplot(X, shade=True)\n"
     ]
    },
    {
     "data": {
      "image/png": "[encoded data removed]",
      "text/plain": [
       "<Figure size 1000x500 with 1 Axes>"
      ]
     },
     "metadata": {},
     "output_type": "display_data"
    }
   ],
   "source": [
    "import numpy as np\n",
    "from scipy.stats import norm\n",
    "\n",
    "import matplotlib.pyplot as plt\n",
    "import seaborn as sns\n",
    "\n",
    "# Line width: Maximum 130 characters in the output, post which it will continue in next line.\n",
    "np.set_printoptions(linewidth=130)\n",
    "sns.set_context(\"paper\", font_scale=1.5)\n",
    "\n",
    "# Distribution\n",
    "X=df[\"average_number_of_calories_available_per_person_per_day\"]\n",
    "mean = np.mean(X)\n",
    "var = np.var(X)\n",
    "std = np.std(X)\n",
    "\n",
    "print(\"Mean:\", mean)\n",
    "print(\"Variance:\", var)\n",
    "print(\"Standard Deviation:\", std)\n",
    "\n",
    "\n",
    "plt.figure(figsize=(10, 5))\n",
    "\n",
    "ax = sns.kdeplot(X, shade=True)\n",
    "\n",
    "# Plot 1-std\n",
    "x = np.linspace(mean - std, mean + std)\n",
    "y = norm.pdf(x, mean, std)\n",
    "ax.fill_between(x, y, alpha=0.5)\n",
    "\n",
    "plt.xlabel(\"Random variable X\")\n",
    "plt.ylabel(\"Probability Density Function\")\n",
    "plt.xticks(ticks=range(0, 10))\n",
    "plt.grid()\n",
    "\n",
    "plt.show()"
   ]
  }
 ],
 "metadata": {
  "kernelspec": {
   "display_name": "Python 3",
   "language": "python",
   "name": "python3"
  },
  "language_info": {
   "codemirror_mode": {
    "name": "ipython",
    "version": 3
   },
   "file_extension": ".py",
   "mimetype": "text/x-python",
   "name": "python",
   "nbconvert_exporter": "python",
   "pygments_lexer": "ipython3",
   "version": "3.12.2"
  }
 },
 "nbformat": 4,
 "nbformat_minor": 5
}
